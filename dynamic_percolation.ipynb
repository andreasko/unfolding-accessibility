{
 "metadata": {
  "name": ""
 },
 "nbformat": 3,
 "nbformat_minor": 0,
 "worksheets": [
  {
   "cells": [
    {
     "cell_type": "code",
     "collapsed": false,
     "input": [
      "import random\n",
      "from matplotlib import pyplot as plt\n",
      "import numpy as np"
     ],
     "language": "python",
     "metadata": {},
     "outputs": [],
     "prompt_number": 1
    },
    {
     "cell_type": "heading",
     "level": 1,
     "metadata": {},
     "source": [
      "Complete Lattice"
     ]
    },
    {
     "cell_type": "code",
     "collapsed": false,
     "input": [
      "%matplotlib inline\n",
      "#plt.gca().add_patch(cir)\n",
      "plt.plot([1., 3.], [1., 1.], 'b')\n",
      "plt.plot([1., 3.], [2., 2.], 'b')\n",
      "plt.plot([1., 3.], [3., 3.], 'b')\n",
      "plt.plot([1., 1.], [1., 3.], 'b')\n",
      "plt.plot([2., 2.], [1., 3.], 'b')\n",
      "plt.plot([3., 3.], [1., 3.], 'b')\n",
      "plt.axis('scaled')\n",
      "plt.axis([0.5, 3.5, 0.5, 3.5])\n",
      "plt.show()"
     ],
     "language": "python",
     "metadata": {},
     "outputs": [
      {
       "metadata": {},
       "output_type": "display_data",
       "png": "[encoded data removed]",
       "text": [
        "<matplotlib.figure.Figure at 0x2b3485cef250>"
       ]
      }
     ],
     "prompt_number": 17
    },
    {
     "cell_type": "code",
     "collapsed": false,
     "input": [
      "import random\n",
      "from matplotlib import pyplot as plt\n",
      "%matplotlib qt\n",
      "\n",
      "sigma = 0.4  # sigma and s_map are needed for the graphical output\n",
      "s_map = [(1.0, 1.0), (2.0, 1.0), (3.0, 1.0), \n",
      "         (1.0, 2.0), (2.0, 2.0), (3.0, 2.0), \n",
      "         (1.0, 3.0), (2.0, 3.0), (3.0, 3.0)] \n",
      "neighbor =  [[1, 3, 0, 0], [2, 4, 0, 1], [2, 5, 1, 2],\n",
      "             [4, 6, 3, 0], [5, 7, 3, 1], [5, 8, 4, 2],\n",
      "             [7, 6, 6, 3], [8, 7, 6, 4], [8, 8, 7, 5]]\n",
      "site = 8\n",
      "N_runs = 10\n",
      "ims = []\n",
      "for run in range(N_runs):\n",
      "    if run < 10: number_string = '0'+str(run)\n",
      "    else: number_string = str(run)\n",
      "    # Begin of graphical output\n",
      "    cir = plt.Circle(s_map[site], radius=sigma, fc='r')\n",
      "    ims.append([cir])\n",
      "    plt.gca().add_patch(cir)\n",
      "    plt.plot([1., 3.], [1., 1.], 'b')\n",
      "    plt.plot([1., 3.], [2., 2.], 'b')\n",
      "    plt.plot([1., 3.], [3., 3.], 'b')\n",
      "    plt.plot([1., 1.], [1., 3.], 'b')\n",
      "    plt.plot([2., 2.], [1., 3.], 'b')\n",
      "    plt.plot([3., 3.], [1., 3.], 'b')\n",
      "    \n",
      "    plt.title('t = '+ number_string)\n",
      "    plt.axis('scaled')\n",
      "    plt.axis([0.5, 3.5, 0.5, 3.5])\n",
      "    plt.xticks([])\n",
      "    plt.yticks([])\n",
      "    plt.savefig('bilder/pebble_basic_movie_'+number_string+'.png', transparent=False)\n",
      "    plt.show()\n",
      "    plt.clf()\n",
      "    # End of graphical output\n",
      "    site = neighbor[site][ random.randint(0, 3)]"
     ],
     "language": "python",
     "metadata": {},
     "outputs": [],
     "prompt_number": 15
    },
    {
     "cell_type": "code",
     "collapsed": false,
     "input": [
      "from matplotlib import pyplot as plt\n",
      "%matplotlib qt\n",
      "from PIL import Image\n",
      "\n",
      "N_runs = 10\n",
      "for run in range(N_runs):\n",
      "    if run < 10: number_string = '0'+str(run)\n",
      "    else: number_string = str(run)\n",
      "    f = 'bilder/pebble_basic_movie_'+number_string+'.png'\n",
      "    im = Image.open(f)\n",
      "    imgplot = plt.imshow(im)\n",
      "    plt.draw()\n",
      "    plt.pause(.05)\n",
      "    plt.cla()"
     ],
     "language": "python",
     "metadata": {},
     "outputs": [],
     "prompt_number": 16
    },
    {
     "cell_type": "heading",
     "level": 1,
     "metadata": {},
     "source": [
      "Random Lattice"
     ]
    },
    {
     "cell_type": "markdown",
     "metadata": {},
     "source": [
      "+ **First define two function:**\n",
      "\n",
      "> **1. \"getNeighbour\" returns 4 Tuples. Each is either the northern, eastern, southern or western neighbour position in case the link exists. Otherwise the current position will be returned**\n",
      "\n",
      "> **2. \"plotArray\" receives two matrices: hbonds and vbonds are boolean and indicate wether a horizontal or vertical link respectively exists** "
     ]
    },
    {
     "cell_type": "code",
     "collapsed": false,
     "input": [
      "def getNeighbour((ii,jj),vbonds,hbonds):\n",
      "    return [(ii + vbonds[ii,jj],jj), (ii - vbonds[ii-1,jj],jj),(ii,jj - hbonds[ii,jj-1]), (ii,jj + hbonds[ii,jj])]"
     ],
     "language": "python",
     "metadata": {},
     "outputs": [],
     "prompt_number": 19
    },
    {
     "cell_type": "code",
     "collapsed": false,
     "input": [
      "def plotArray(vbond,hbonds):\n",
      "    fig = plt.gcf()\n",
      "    ax = fig.gca()\n",
      "    #fig.patch.set_visible(False)\n",
      "    for ii in range(vbond.shape[0]):\n",
      "        for jj in range(vbond.shape[1]):\n",
      "            if vbonds[ii,jj]:\n",
      "                ax.plot([jj,jj],[ii+1,ii],'-k')\n",
      "            if hbonds[ii,jj]:\n",
      "                ax.plot([jj,jj+1],[ii,ii],'-k')\n",
      "    return ax.lines"
     ],
     "language": "python",
     "metadata": {},
     "outputs": [],
     "prompt_number": 27
    },
    {
     "cell_type": "markdown",
     "metadata": {},
     "source": [
      "* **Then set up a bond percolation latice of size N x N and bond probability p**"
     ]
    },
    {
     "cell_type": "code",
     "collapsed": false,
     "input": [
      "%matplotlib inline\n",
      "import numpy as np\n",
      "N = 20                # Dimension\n",
      "p = 0.8              # Prob to find a bond\n",
      "pos = (int(N/2),int(N/2))\n",
      "vbonds = np.array([random.random() for i in xrange(N**2)]) < p\n",
      "vbonds = vbonds.reshape((N,N))\n",
      "hbonds = np.array([random.random() for i in xrange(N**2)]) < p\n",
      "hbonds = hbonds.reshape((N,N))\n",
      "plotArray(vbonds,hbonds)\n",
      "cir = plt.Circle(pos, radius=0.1, fc='r')\n",
      "plt.gca().add_patch(cir)\n",
      "print getNeighbour(pos,vbonds,hbonds)"
     ],
     "language": "python",
     "metadata": {},
     "outputs": [
      {
       "output_type": "stream",
       "stream": "stdout",
       "text": [
        "[(11, 10), (9, 10), (10, 9), (10, 11)]\n"
       ]
      },
      {
       "metadata": {},
       "output_type": "display_data",
       "png": "[encoded data removed]",
       "text": [
        "<matplotlib.figure.Figure at 0x30ba410>"
       ]
      }
     ],
     "prompt_number": 28
    },
    {
     "cell_type": "markdown",
     "metadata": {},
     "source": [
      "* **The actual code simulating the random walker on a given lattice is pretty short.**\n",
      "* **finally the result can be animated by pylabs in-build function**"
     ]
    },
    {
     "cell_type": "code",
     "collapsed": false,
     "input": [
      "N_runs = 100\n",
      "pos = [(int(N/2),int(N/2))]\n",
      "for run in xrange(N_runs):\n",
      "    pos.append(random.choice(getNeighbour(pos[-1],vbonds,hbonds)))"
     ],
     "language": "python",
     "metadata": {},
     "outputs": [],
     "prompt_number": 31
    },
    {
     "cell_type": "code",
     "collapsed": false,
     "input": [
      "%matplotlib qt\n",
      "import numpy as np\n",
      "from matplotlib import pyplot as plt\n",
      "from matplotlib import animation\n",
      "\n",
      "fig = plt.figure()\n",
      "fig.set_dpi(100)\n",
      "fig.set_size_inches(5, 3.2)\n",
      "\n",
      "\n",
      "ax = plt.axes(xlim=(0, N), ylim=(0, N))\n",
      "patch = plt.Circle(pos[0], 0.3, fc='r')\n",
      "\n",
      "def init():\n",
      "    plotArray(vbonds,hbonds)\n",
      "    #patch.center = pos[0]\n",
      "    ax.add_patch(patch)\n",
      "    return patch,\n",
      "\n",
      "def animate(i):\n",
      "    y,x = pos[i]\n",
      "    patch.center = x,y\n",
      "    return patch,\n",
      "\n",
      "anim = animation.FuncAnimation(fig, animate, \n",
      "                               init_func=init, \n",
      "                               frames=N_runs, \n",
      "                               interval=100,\n",
      "                               blit=True)\n",
      "\n",
      "plt.show()"
     ],
     "language": "python",
     "metadata": {},
     "outputs": [],
     "prompt_number": 32
    },
    {
     "cell_type": "heading",
     "level": 1,
     "metadata": {},
     "source": [
      "Dynamic Percolation"
     ]
    },
    {
     "cell_type": "markdown",
     "metadata": {},
     "source": [
      "**Ein dynamisches, soll hei\u00dfen zeitabh\u00e4ngiges Netzwerk ist dadurch definiert, dass jede Kante einem Dichotomen Prozess unterliegt:**\n",
      "\n",
      "> $$ \\text{\"Kante\"} \\rightarrow 1 $$ $$ \\text{\"Keine Kante\"} \\rightarrow 0 $$\n",
      "\n",
      "> $$ \\partial_t P(1,t|X_0,t_0) = - p_1 \\cdot P(1,t|X_0,t_0) + p_2 \\cdot P(0,t|X_0,t_0)$$ \n",
      "\n",
      "> $$ E(X) = \\frac{p_2}{P_1 + p_2} $$\n",
      "\n",
      "> $$ Var(X) = \\frac{p_1 p_2}{(p_1 + p_2)^2}$$\n",
      "\n",
      "> $$ E(X(t)X(s)) = e^{-(p_1+p_2)|t-s|} \\cdot Var(X) $$"
     ]
    },
    {
     "cell_type": "markdown",
     "metadata": {},
     "source": [
      "**Es gibt zwei Wege ein dynamisches Netzwerk zu konstruieren:**\n",
      "\n",
      "> **1. Mit jedem Zeitschritt wird neu ausgew\u00fcrfelt ob eine Kante noch existiert.**\n",
      "$$P(1 \\rightarrow 0) = p_1$$\n",
      "$$P(0 \\rightarrow 1) = p_2$$\n",
      "$$p_1 + p_2 \\leq 1$$\n",
      "\n",
      "\n",
      "> **2. Es wird die Zeit ausgew\u00fcrfelt nach Kanten aktualisiert werden k\u00f6nnen, dh es wird erst nach einer zuf\u00e4lligen Wartezeit E(t) = 1/u ausgew\u00fcrfelt ob eine Kante noch existiert.** \n",
      "$$P(1 \\rightarrow 0) =  \\mu \\cdot q = p_1$$\n",
      "$$P(0 \\rightarrow 1) = \\mu \\cdot (1-q) = p_2$$\n"
     ]
    },
    {
     "cell_type": "code",
     "collapsed": false,
     "input": [
      "def updateLatice(vbonds,hbonds,p1,p2):\n",
      "    ran = np.random.random(vbonds.shape)\n",
      "    newV = vbonds.copy()\n",
      "    newV[ran < vbonds*p1] = 0\n",
      "    newV[ran < np.logical_not(vbonds)*p2] = 1\n",
      "    \n",
      "    ran = np.random.random(hbonds.shape)\n",
      "    newH = hbonds.copy()\n",
      "    newH[ran < hbonds*p1] = 0\n",
      "    newH[ran < np.logical_not(hbonds)*p2] = 1\n",
      "    \n",
      "    return newV, newH"
     ],
     "language": "python",
     "metadata": {},
     "outputs": [],
     "prompt_number": 119
    },
    {
     "cell_type": "code",
     "collapsed": false,
     "input": [
      "N_runs = 100\n",
      "p1 = 0.02\n",
      "p2 = 0.02\n",
      "p = p2/(p1+p2)\n",
      "vbonds = np.array([random.random() for i in xrange(N**2)]) < p\n",
      "vbonds = vbonds.reshape((N,N))\n",
      "hbonds = np.array([random.random() for i in xrange(N**2)]) < p\n",
      "hbonds = hbonds.reshape((N,N))\n",
      "hlist = [hbonds]\n",
      "vlist = [vbonds]\n",
      "pos = [(int(N/2),int(N/2))]\n",
      "for run in xrange(N_runs):\n",
      "    pos.append(random.choice(getNeighbour(pos[-1],vbonds,hbonds)))\n",
      "    vbonds, hbonds = updateLatice(vbonds,hbonds,p1,p2)\n",
      "    hlist.append(hbonds)\n",
      "    vlist.append(vbonds)"
     ],
     "language": "python",
     "metadata": {},
     "outputs": [],
     "prompt_number": 120
    },
    {
     "cell_type": "code",
     "collapsed": false,
     "input": [
      "%matplotlib qt\n",
      "import numpy as np\n",
      "from matplotlib import pyplot as plt\n",
      "from matplotlib import animation\n",
      "\n",
      "patches = []\n",
      "fig = plt.figure()\n",
      "fig.set_dpi(100)\n",
      "fig.set_size_inches(5, 3.2)\n",
      "ax = plt.axes(xlim=(0, N), ylim=(0, N))\n",
      "ax.set_frame_on(False)\n",
      "\n",
      "for ii in range(2 * N**2):\n",
      "    ax.plot([],[], 'k-', lw=2)\n",
      "lines = ax.lines\n",
      "cir = plt.Circle(pos[0], 0.3, fc='r')\n",
      "ax.add_patch(cir)\n",
      "\n",
      "def init():\n",
      "    for line in patches[0:-1]:\n",
      "        line.set_data([], [])\n",
      "    cir.set_visible(False)\n",
      "    \n",
      "    return lines + [cir]\n",
      "\n",
      "def animate(i):\n",
      "    ind = 0\n",
      "    for ii in range(N):\n",
      "        for jj in range(N):\n",
      "            if vlist[i][ii,jj]:\n",
      "                lines[ind].set_data([jj,jj],[ii+1,ii])\n",
      "            elif not(vlist[i][ii,jj]):\n",
      "                lines[ind].set_data([],[])\n",
      "            ind += 1\n",
      "            if hlist[i][ii,jj]:\n",
      "                lines[ind].set_data([jj,jj+1],[ii,ii])\n",
      "            elif not(hlist[i][ii,jj]):\n",
      "                lines[ind].set_data([],[])\n",
      "            ind += 1\n",
      "    y,x = pos[i]\n",
      "    cir.center = x,y\n",
      "    cir.set_visible(True)\n",
      "    return lines + [cir]\n",
      "\n",
      "anim = animation.FuncAnimation(fig, animate, \n",
      "                               init_func=init, \n",
      "                               frames=N_runs, \n",
      "                               interval=50,\n",
      "                               blit=True)\n",
      "\n",
      "plt.show()"
     ],
     "language": "python",
     "metadata": {},
     "outputs": [],
     "prompt_number": 125
    }
   ],
   "metadata": {}
  }
 ]
}